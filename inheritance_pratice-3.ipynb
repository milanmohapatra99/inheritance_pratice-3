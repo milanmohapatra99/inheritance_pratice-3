{
 "cells": [
  {
   "cell_type": "markdown",
   "id": "727e4073",
   "metadata": {},
   "source": [
    "Create a class Employee and add salary and increment properties to it.\n",
    "Write a method salry after increment mehod with a @property decorator with a setter which changes the value of increment based on salary."
   ]
  },
  {
   "cell_type": "code",
   "execution_count": 5,
   "id": "84b0b1a3",
   "metadata": {},
   "outputs": [
    {
     "name": "stdout",
     "output_type": "stream",
     "text": [
      "1500.0\n",
      "1.5\n"
     ]
    }
   ],
   "source": [
    "class Employee:\n",
    "    salary = 1000\n",
    "    increment = 1.5\n",
    "    @property\n",
    "    def salaryAfterIncrement(self):\n",
    "        return self.salary * self.increment\n",
    "    @salaryAfterIncrement.setter\n",
    "    def salaryAfterIncrement(self,sai):\n",
    "        increment = sai/self.salary\n",
    "e = Employee()\n",
    "print(e.salaryAfterIncrement)\n",
    "print(e.increment)\n",
    "\n",
    "\n",
    "    "
   ]
  },
  {
   "cell_type": "code",
   "execution_count": 4,
   "id": "fdb69ce7",
   "metadata": {},
   "outputs": [
    {
     "name": "stdout",
     "output_type": "stream",
     "text": [
      "1500.0\n",
      "1.5\n",
      "2.0\n"
     ]
    }
   ],
   "source": [
    "# salaryAfterIncrement =  salary * increment\n",
    "\n",
    "class Employee:\n",
    "    salary = 1000\n",
    "    increment = 1.5\n",
    "    @property\n",
    "    def salaryAfterIncrement(self):\n",
    "        return self.salary*self.increment\n",
    "    \n",
    "    @salaryAfterIncrement.setter\n",
    "    def salaryAfterIncrement(self, sai):\n",
    "        self.increment = sai/self.salary\n",
    "\n",
    "e = Employee()\n",
    "print(e.salaryAfterIncrement)\n",
    "\n",
    "print(e.increment)\n",
    "e.salaryAfterIncrement = 2000\n",
    "print(e.increment)"
   ]
  },
  {
   "cell_type": "code",
   "execution_count": null,
   "id": "bf345ac5",
   "metadata": {},
   "outputs": [],
   "source": []
  }
 ],
 "metadata": {
  "kernelspec": {
   "display_name": "Python 3 (ipykernel)",
   "language": "python",
   "name": "python3"
  },
  "language_info": {
   "codemirror_mode": {
    "name": "ipython",
    "version": 3
   },
   "file_extension": ".py",
   "mimetype": "text/x-python",
   "name": "python",
   "nbconvert_exporter": "python",
   "pygments_lexer": "ipython3",
   "version": "3.9.7"
  }
 },
 "nbformat": 4,
 "nbformat_minor": 5
}
